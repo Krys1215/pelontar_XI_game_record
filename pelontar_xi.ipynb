{
 "cells": [
  {
   "cell_type": "markdown",
   "metadata": {},
   "source": [
    "# Section B: Basketball game record"
   ]
  },
  {
   "cell_type": "markdown",
   "metadata": {},
   "source": [
    "| NAME                | MATRIC NO |\n",
    "|---------------------|-----------|\n",
    "| ZHENG AO            | 208738    |\n",
    "| SHUAI ZIYUAN        | 208708    |\n",
    "| ZHAO YUANHAO        | 208744    |\n",
    "| HAN ZHENXINGLONG    | 208745    |\n",
    "| DOU ZHANGSHUO       | 208944    |\n"
   ]
  },
  {
   "cell_type": "code",
   "execution_count": 1,
   "metadata": {},
   "outputs": [],
   "source": [
    "import os\n",
    "import pandas as pd\n",
    "import numpy as py\n",
    "import seaborn as sns\n",
    "import matplotlib.pyplot as plt\n",
    "\n",
    "from sklearn.cluster import KMeans\n",
    "from sklearn.preprocessing import StandardScaler\n",
    "from sklearn.model_selection import train_test_split\n",
    "from sklearn.ensemble import RandomForestRegressor, RandomForestClassifier\n",
    "from sklearn.linear_model import LinearRegression, LogisticRegression\n",
    "from sklearn.metrics import mean_absolute_error, accuracy_score, classification_report"
   ]
  },
  {
   "cell_type": "markdown",
   "metadata": {},
   "source": [
    "### Sample questions:   "
   ]
  },
  {
   "cell_type": "markdown",
   "metadata": {},
   "source": [
    "1. predicting whether the team will win or lose when certain combination of players is formed in a game\n",
    "2. predict the points, ratings, turnover, etc\n",
    "3. association rules on the winning or lose\n",
    "4. clustering players based on their strengths and weaknesses"
   ]
  },
  {
   "cell_type": "markdown",
   "metadata": {},
   "source": [
    "### Read the data"
   ]
  },
  {
   "cell_type": "code",
   "execution_count": 2,
   "metadata": {},
   "outputs": [],
   "source": [
    "curr_path = os.getcwd()\n",
    "file_path = curr_path + '/data.xlsx'"
   ]
  },
  {
   "cell_type": "code",
   "execution_count": 3,
   "metadata": {},
   "outputs": [
    {
     "data": {
      "text/html": [
       "<div>\n",
       "<style scoped>\n",
       "    .dataframe tbody tr th:only-of-type {\n",
       "        vertical-align: middle;\n",
       "    }\n",
       "\n",
       "    .dataframe tbody tr th {\n",
       "        vertical-align: top;\n",
       "    }\n",
       "\n",
       "    .dataframe thead th {\n",
       "        text-align: right;\n",
       "    }\n",
       "</style>\n",
       "<table border=\"1\" class=\"dataframe\">\n",
       "  <thead>\n",
       "    <tr style=\"text-align: right;\">\n",
       "      <th></th>\n",
       "      <th>NO</th>\n",
       "      <th>NO of player</th>\n",
       "      <th>PLAYER</th>\n",
       "      <th>PTS</th>\n",
       "      <th>REB</th>\n",
       "      <th>AST</th>\n",
       "      <th>STL</th>\n",
       "      <th>BLK</th>\n",
       "      <th>T/O</th>\n",
       "      <th>RTG</th>\n",
       "      <th>...</th>\n",
       "      <th>FT-MISS</th>\n",
       "      <th>FT-ATT</th>\n",
       "      <th>FT %</th>\n",
       "      <th>REB\\n(Off)</th>\n",
       "      <th>REB\\n(Def)</th>\n",
       "      <th>Fouls\\n(Tot)</th>\n",
       "      <th>MIN</th>\n",
       "      <th>W/L</th>\n",
       "      <th>OPPONENT</th>\n",
       "      <th>Game_Type</th>\n",
       "    </tr>\n",
       "  </thead>\n",
       "  <tbody>\n",
       "    <tr>\n",
       "      <th>0</th>\n",
       "      <td>1</td>\n",
       "      <td>11</td>\n",
       "      <td>Kisyok</td>\n",
       "      <td>4</td>\n",
       "      <td>10</td>\n",
       "      <td>1.0</td>\n",
       "      <td>0.0</td>\n",
       "      <td>1.0</td>\n",
       "      <td>1.0</td>\n",
       "      <td>26.0</td>\n",
       "      <td>...</td>\n",
       "      <td>0.0</td>\n",
       "      <td>0.0</td>\n",
       "      <td>0.0</td>\n",
       "      <td>3.0</td>\n",
       "      <td>7.0</td>\n",
       "      <td>0.0</td>\n",
       "      <td>NaN</td>\n",
       "      <td>1</td>\n",
       "      <td>JOKERS</td>\n",
       "      <td>FRIENDLY (NCBL PREP)</td>\n",
       "    </tr>\n",
       "    <tr>\n",
       "      <th>1</th>\n",
       "      <td>1</td>\n",
       "      <td>2</td>\n",
       "      <td>Afiq</td>\n",
       "      <td>4</td>\n",
       "      <td>7</td>\n",
       "      <td>4.0</td>\n",
       "      <td>0.0</td>\n",
       "      <td>1.0</td>\n",
       "      <td>1.0</td>\n",
       "      <td>23.0</td>\n",
       "      <td>...</td>\n",
       "      <td>0.0</td>\n",
       "      <td>0.0</td>\n",
       "      <td>0.0</td>\n",
       "      <td>3.0</td>\n",
       "      <td>4.0</td>\n",
       "      <td>1.0</td>\n",
       "      <td>NaN</td>\n",
       "      <td>1</td>\n",
       "      <td>JOKERS</td>\n",
       "      <td>FRIENDLY (NCBL PREP)</td>\n",
       "    </tr>\n",
       "    <tr>\n",
       "      <th>2</th>\n",
       "      <td>1</td>\n",
       "      <td>13</td>\n",
       "      <td>Po</td>\n",
       "      <td>6</td>\n",
       "      <td>7</td>\n",
       "      <td>2.0</td>\n",
       "      <td>0.0</td>\n",
       "      <td>0.0</td>\n",
       "      <td>3.0</td>\n",
       "      <td>19.0</td>\n",
       "      <td>...</td>\n",
       "      <td>0.0</td>\n",
       "      <td>0.0</td>\n",
       "      <td>0.0</td>\n",
       "      <td>5.0</td>\n",
       "      <td>2.0</td>\n",
       "      <td>1.0</td>\n",
       "      <td>NaN</td>\n",
       "      <td>1</td>\n",
       "      <td>JOKERS</td>\n",
       "      <td>FRIENDLY (NCBL PREP)</td>\n",
       "    </tr>\n",
       "    <tr>\n",
       "      <th>3</th>\n",
       "      <td>1</td>\n",
       "      <td>14</td>\n",
       "      <td>Salim</td>\n",
       "      <td>6</td>\n",
       "      <td>7</td>\n",
       "      <td>0.0</td>\n",
       "      <td>0.0</td>\n",
       "      <td>1.0</td>\n",
       "      <td>3.0</td>\n",
       "      <td>19.0</td>\n",
       "      <td>...</td>\n",
       "      <td>0.0</td>\n",
       "      <td>0.0</td>\n",
       "      <td>0.0</td>\n",
       "      <td>2.0</td>\n",
       "      <td>5.0</td>\n",
       "      <td>0.0</td>\n",
       "      <td>NaN</td>\n",
       "      <td>1</td>\n",
       "      <td>JOKERS</td>\n",
       "      <td>FRIENDLY (NCBL PREP)</td>\n",
       "    </tr>\n",
       "    <tr>\n",
       "      <th>4</th>\n",
       "      <td>1</td>\n",
       "      <td>5</td>\n",
       "      <td>Azim</td>\n",
       "      <td>10</td>\n",
       "      <td>3</td>\n",
       "      <td>1.0</td>\n",
       "      <td>3.0</td>\n",
       "      <td>0.0</td>\n",
       "      <td>2.0</td>\n",
       "      <td>18.0</td>\n",
       "      <td>...</td>\n",
       "      <td>0.0</td>\n",
       "      <td>0.0</td>\n",
       "      <td>0.0</td>\n",
       "      <td>0.0</td>\n",
       "      <td>3.0</td>\n",
       "      <td>1.0</td>\n",
       "      <td>NaN</td>\n",
       "      <td>1</td>\n",
       "      <td>JOKERS</td>\n",
       "      <td>FRIENDLY (NCBL PREP)</td>\n",
       "    </tr>\n",
       "  </tbody>\n",
       "</table>\n",
       "<p>5 rows × 33 columns</p>\n",
       "</div>"
      ],
      "text/plain": [
       "   NO  NO of player  PLAYER  PTS  REB  AST  STL  BLK  T/O   RTG  ...  FT-MISS  \\\n",
       "0   1            11  Kisyok    4   10  1.0  0.0  1.0  1.0  26.0  ...      0.0   \n",
       "1   1             2    Afiq    4    7  4.0  0.0  1.0  1.0  23.0  ...      0.0   \n",
       "2   1            13      Po    6    7  2.0  0.0  0.0  3.0  19.0  ...      0.0   \n",
       "3   1            14   Salim    6    7  0.0  0.0  1.0  3.0  19.0  ...      0.0   \n",
       "4   1             5    Azim   10    3  1.0  3.0  0.0  2.0  18.0  ...      0.0   \n",
       "\n",
       "   FT-ATT  FT %  REB\\n(Off)  REB\\n(Def)  Fouls\\n(Tot)  MIN  W/L  OPPONENT  \\\n",
       "0     0.0   0.0         3.0         7.0           0.0  NaN    1    JOKERS   \n",
       "1     0.0   0.0         3.0         4.0           1.0  NaN    1    JOKERS   \n",
       "2     0.0   0.0         5.0         2.0           1.0  NaN    1    JOKERS   \n",
       "3     0.0   0.0         2.0         5.0           0.0  NaN    1    JOKERS   \n",
       "4     0.0   0.0         0.0         3.0           1.0  NaN    1    JOKERS   \n",
       "\n",
       "              Game_Type  \n",
       "0  FRIENDLY (NCBL PREP)  \n",
       "1  FRIENDLY (NCBL PREP)  \n",
       "2  FRIENDLY (NCBL PREP)  \n",
       "3  FRIENDLY (NCBL PREP)  \n",
       "4  FRIENDLY (NCBL PREP)  \n",
       "\n",
       "[5 rows x 33 columns]"
      ]
     },
     "execution_count": 3,
     "metadata": {},
     "output_type": "execute_result"
    }
   ],
   "source": [
    "df = pd.read_excel(file_path)\n",
    "df.head()"
   ]
  },
  {
   "cell_type": "code",
   "execution_count": 69,
   "metadata": {},
   "outputs": [
    {
     "data": {
      "text/plain": [
       "Index(['NO', 'NO of player', 'PTS', 'REB', 'AST', 'STL', 'BLK', 'T/O', 'RTG',\n",
       "       'FG (TOT)-MADE', 'FG (TOT)-MISS', 'FG (TOT)-ATT', 'FG %',\n",
       "       'FG (2-PT)-MADE', 'FG (2-PT)-MISS', 'FG (2-PT)-ATT', '2-PT %',\n",
       "       'FG (3-PT)-MADE', 'FG (3-PT)-MISS', 'FG (3-PT)-ATT', '3-PT %',\n",
       "       'FT-MADE', 'FT-MISS', 'FT-ATT', 'FT %', 'REB\\n(Off)', 'REB\\n(Def)',\n",
       "       'Fouls\\n(Tot)', 'W/L', 'OPPONENT', 'Game_Type', 'cluster'],\n",
       "      dtype='object')"
      ]
     },
     "execution_count": 69,
     "metadata": {},
     "output_type": "execute_result"
    }
   ],
   "source": [
    "df.columns"
   ]
  },
  {
   "cell_type": "markdown",
   "metadata": {},
   "source": [
    "### Data Cleaning"
   ]
  },
  {
   "cell_type": "code",
   "execution_count": 4,
   "metadata": {},
   "outputs": [
    {
     "data": {
      "text/html": [
       "<div>\n",
       "<style scoped>\n",
       "    .dataframe tbody tr th:only-of-type {\n",
       "        vertical-align: middle;\n",
       "    }\n",
       "\n",
       "    .dataframe tbody tr th {\n",
       "        vertical-align: top;\n",
       "    }\n",
       "\n",
       "    .dataframe thead th {\n",
       "        text-align: right;\n",
       "    }\n",
       "</style>\n",
       "<table border=\"1\" class=\"dataframe\">\n",
       "  <thead>\n",
       "    <tr style=\"text-align: right;\">\n",
       "      <th></th>\n",
       "      <th>NO</th>\n",
       "      <th>NO of player</th>\n",
       "      <th>PTS</th>\n",
       "      <th>REB</th>\n",
       "      <th>AST</th>\n",
       "      <th>STL</th>\n",
       "      <th>BLK</th>\n",
       "      <th>T/O</th>\n",
       "      <th>RTG</th>\n",
       "      <th>FG (TOT)-MADE</th>\n",
       "      <th>...</th>\n",
       "      <th>3-PT %</th>\n",
       "      <th>FT-MADE</th>\n",
       "      <th>FT-MISS</th>\n",
       "      <th>FT-ATT</th>\n",
       "      <th>FT %</th>\n",
       "      <th>REB\\n(Off)</th>\n",
       "      <th>REB\\n(Def)</th>\n",
       "      <th>Fouls\\n(Tot)</th>\n",
       "      <th>MIN</th>\n",
       "      <th>W/L</th>\n",
       "    </tr>\n",
       "  </thead>\n",
       "  <tbody>\n",
       "    <tr>\n",
       "      <th>count</th>\n",
       "      <td>255.000000</td>\n",
       "      <td>255.00000</td>\n",
       "      <td>255.000000</td>\n",
       "      <td>255.000000</td>\n",
       "      <td>186.000000</td>\n",
       "      <td>186.000000</td>\n",
       "      <td>186.000000</td>\n",
       "      <td>186.000000</td>\n",
       "      <td>245.000000</td>\n",
       "      <td>255.000000</td>\n",
       "      <td>...</td>\n",
       "      <td>255.000000</td>\n",
       "      <td>194.000000</td>\n",
       "      <td>193.000000</td>\n",
       "      <td>251.000000</td>\n",
       "      <td>255.000000</td>\n",
       "      <td>89.000000</td>\n",
       "      <td>186.000000</td>\n",
       "      <td>39.000000</td>\n",
       "      <td>0.0</td>\n",
       "      <td>255.000000</td>\n",
       "    </tr>\n",
       "    <tr>\n",
       "      <th>mean</th>\n",
       "      <td>9.000000</td>\n",
       "      <td>8.00000</td>\n",
       "      <td>3.509804</td>\n",
       "      <td>2.674510</td>\n",
       "      <td>1.037634</td>\n",
       "      <td>1.150538</td>\n",
       "      <td>0.338710</td>\n",
       "      <td>1.602151</td>\n",
       "      <td>10.179592</td>\n",
       "      <td>1.454902</td>\n",
       "      <td>...</td>\n",
       "      <td>7.124706</td>\n",
       "      <td>0.417526</td>\n",
       "      <td>0.528497</td>\n",
       "      <td>0.729084</td>\n",
       "      <td>9.829804</td>\n",
       "      <td>1.044944</td>\n",
       "      <td>3.166667</td>\n",
       "      <td>1.025641</td>\n",
       "      <td>NaN</td>\n",
       "      <td>0.588235</td>\n",
       "    </tr>\n",
       "    <tr>\n",
       "      <th>std</th>\n",
       "      <td>4.908614</td>\n",
       "      <td>4.32899</td>\n",
       "      <td>4.547962</td>\n",
       "      <td>3.212907</td>\n",
       "      <td>1.320804</td>\n",
       "      <td>1.458961</td>\n",
       "      <td>0.680466</td>\n",
       "      <td>1.709369</td>\n",
       "      <td>10.471291</td>\n",
       "      <td>1.943322</td>\n",
       "      <td>...</td>\n",
       "      <td>18.794168</td>\n",
       "      <td>0.925125</td>\n",
       "      <td>1.080348</td>\n",
       "      <td>1.611928</td>\n",
       "      <td>23.801505</td>\n",
       "      <td>1.429480</td>\n",
       "      <td>2.922266</td>\n",
       "      <td>1.347262</td>\n",
       "      <td>NaN</td>\n",
       "      <td>0.493121</td>\n",
       "    </tr>\n",
       "    <tr>\n",
       "      <th>min</th>\n",
       "      <td>1.000000</td>\n",
       "      <td>1.00000</td>\n",
       "      <td>0.000000</td>\n",
       "      <td>0.000000</td>\n",
       "      <td>0.000000</td>\n",
       "      <td>0.000000</td>\n",
       "      <td>0.000000</td>\n",
       "      <td>0.000000</td>\n",
       "      <td>-2.000000</td>\n",
       "      <td>0.000000</td>\n",
       "      <td>...</td>\n",
       "      <td>0.000000</td>\n",
       "      <td>0.000000</td>\n",
       "      <td>0.000000</td>\n",
       "      <td>0.000000</td>\n",
       "      <td>0.000000</td>\n",
       "      <td>0.000000</td>\n",
       "      <td>0.000000</td>\n",
       "      <td>0.000000</td>\n",
       "      <td>NaN</td>\n",
       "      <td>0.000000</td>\n",
       "    </tr>\n",
       "    <tr>\n",
       "      <th>25%</th>\n",
       "      <td>5.000000</td>\n",
       "      <td>4.00000</td>\n",
       "      <td>0.000000</td>\n",
       "      <td>0.000000</td>\n",
       "      <td>0.000000</td>\n",
       "      <td>0.000000</td>\n",
       "      <td>0.000000</td>\n",
       "      <td>0.000000</td>\n",
       "      <td>0.000000</td>\n",
       "      <td>0.000000</td>\n",
       "      <td>...</td>\n",
       "      <td>0.000000</td>\n",
       "      <td>0.000000</td>\n",
       "      <td>0.000000</td>\n",
       "      <td>0.000000</td>\n",
       "      <td>0.000000</td>\n",
       "      <td>0.000000</td>\n",
       "      <td>1.000000</td>\n",
       "      <td>0.000000</td>\n",
       "      <td>NaN</td>\n",
       "      <td>0.000000</td>\n",
       "    </tr>\n",
       "    <tr>\n",
       "      <th>50%</th>\n",
       "      <td>9.000000</td>\n",
       "      <td>8.00000</td>\n",
       "      <td>2.000000</td>\n",
       "      <td>1.000000</td>\n",
       "      <td>1.000000</td>\n",
       "      <td>1.000000</td>\n",
       "      <td>0.000000</td>\n",
       "      <td>1.000000</td>\n",
       "      <td>8.000000</td>\n",
       "      <td>1.000000</td>\n",
       "      <td>...</td>\n",
       "      <td>0.000000</td>\n",
       "      <td>0.000000</td>\n",
       "      <td>0.000000</td>\n",
       "      <td>0.000000</td>\n",
       "      <td>0.000000</td>\n",
       "      <td>0.000000</td>\n",
       "      <td>2.000000</td>\n",
       "      <td>1.000000</td>\n",
       "      <td>NaN</td>\n",
       "      <td>1.000000</td>\n",
       "    </tr>\n",
       "    <tr>\n",
       "      <th>75%</th>\n",
       "      <td>13.000000</td>\n",
       "      <td>12.00000</td>\n",
       "      <td>5.000000</td>\n",
       "      <td>5.000000</td>\n",
       "      <td>2.000000</td>\n",
       "      <td>2.000000</td>\n",
       "      <td>0.000000</td>\n",
       "      <td>2.000000</td>\n",
       "      <td>18.000000</td>\n",
       "      <td>2.000000</td>\n",
       "      <td>...</td>\n",
       "      <td>0.000000</td>\n",
       "      <td>0.000000</td>\n",
       "      <td>1.000000</td>\n",
       "      <td>0.000000</td>\n",
       "      <td>0.000000</td>\n",
       "      <td>2.000000</td>\n",
       "      <td>5.000000</td>\n",
       "      <td>2.000000</td>\n",
       "      <td>NaN</td>\n",
       "      <td>1.000000</td>\n",
       "    </tr>\n",
       "    <tr>\n",
       "      <th>max</th>\n",
       "      <td>17.000000</td>\n",
       "      <td>15.00000</td>\n",
       "      <td>20.000000</td>\n",
       "      <td>15.000000</td>\n",
       "      <td>6.000000</td>\n",
       "      <td>9.000000</td>\n",
       "      <td>3.000000</td>\n",
       "      <td>8.000000</td>\n",
       "      <td>42.000000</td>\n",
       "      <td>10.000000</td>\n",
       "      <td>...</td>\n",
       "      <td>100.000000</td>\n",
       "      <td>6.000000</td>\n",
       "      <td>6.000000</td>\n",
       "      <td>10.000000</td>\n",
       "      <td>100.000000</td>\n",
       "      <td>5.000000</td>\n",
       "      <td>15.000000</td>\n",
       "      <td>5.000000</td>\n",
       "      <td>NaN</td>\n",
       "      <td>1.000000</td>\n",
       "    </tr>\n",
       "  </tbody>\n",
       "</table>\n",
       "<p>8 rows × 30 columns</p>\n",
       "</div>"
      ],
      "text/plain": [
       "               NO  NO of player         PTS         REB         AST  \\\n",
       "count  255.000000     255.00000  255.000000  255.000000  186.000000   \n",
       "mean     9.000000       8.00000    3.509804    2.674510    1.037634   \n",
       "std      4.908614       4.32899    4.547962    3.212907    1.320804   \n",
       "min      1.000000       1.00000    0.000000    0.000000    0.000000   \n",
       "25%      5.000000       4.00000    0.000000    0.000000    0.000000   \n",
       "50%      9.000000       8.00000    2.000000    1.000000    1.000000   \n",
       "75%     13.000000      12.00000    5.000000    5.000000    2.000000   \n",
       "max     17.000000      15.00000   20.000000   15.000000    6.000000   \n",
       "\n",
       "              STL         BLK         T/O         RTG  FG (TOT)-MADE  ...  \\\n",
       "count  186.000000  186.000000  186.000000  245.000000     255.000000  ...   \n",
       "mean     1.150538    0.338710    1.602151   10.179592       1.454902  ...   \n",
       "std      1.458961    0.680466    1.709369   10.471291       1.943322  ...   \n",
       "min      0.000000    0.000000    0.000000   -2.000000       0.000000  ...   \n",
       "25%      0.000000    0.000000    0.000000    0.000000       0.000000  ...   \n",
       "50%      1.000000    0.000000    1.000000    8.000000       1.000000  ...   \n",
       "75%      2.000000    0.000000    2.000000   18.000000       2.000000  ...   \n",
       "max      9.000000    3.000000    8.000000   42.000000      10.000000  ...   \n",
       "\n",
       "           3-PT %     FT-MADE     FT-MISS      FT-ATT        FT %  REB\\n(Off)  \\\n",
       "count  255.000000  194.000000  193.000000  251.000000  255.000000   89.000000   \n",
       "mean     7.124706    0.417526    0.528497    0.729084    9.829804    1.044944   \n",
       "std     18.794168    0.925125    1.080348    1.611928   23.801505    1.429480   \n",
       "min      0.000000    0.000000    0.000000    0.000000    0.000000    0.000000   \n",
       "25%      0.000000    0.000000    0.000000    0.000000    0.000000    0.000000   \n",
       "50%      0.000000    0.000000    0.000000    0.000000    0.000000    0.000000   \n",
       "75%      0.000000    0.000000    1.000000    0.000000    0.000000    2.000000   \n",
       "max    100.000000    6.000000    6.000000   10.000000  100.000000    5.000000   \n",
       "\n",
       "       REB\\n(Def)  Fouls\\n(Tot)  MIN         W/L  \n",
       "count  186.000000     39.000000  0.0  255.000000  \n",
       "mean     3.166667      1.025641  NaN    0.588235  \n",
       "std      2.922266      1.347262  NaN    0.493121  \n",
       "min      0.000000      0.000000  NaN    0.000000  \n",
       "25%      1.000000      0.000000  NaN    0.000000  \n",
       "50%      2.000000      1.000000  NaN    1.000000  \n",
       "75%      5.000000      2.000000  NaN    1.000000  \n",
       "max     15.000000      5.000000  NaN    1.000000  \n",
       "\n",
       "[8 rows x 30 columns]"
      ]
     },
     "execution_count": 4,
     "metadata": {},
     "output_type": "execute_result"
    }
   ],
   "source": [
    "df.describe()"
   ]
  },
  {
   "cell_type": "code",
   "execution_count": 5,
   "metadata": {},
   "outputs": [],
   "source": [
    "df = df.fillna(0)"
   ]
  },
  {
   "cell_type": "code",
   "execution_count": 6,
   "metadata": {},
   "outputs": [
    {
     "name": "stdout",
     "output_type": "stream",
     "text": [
      "<class 'pandas.core.frame.DataFrame'>\n",
      "RangeIndex: 255 entries, 0 to 254\n",
      "Data columns (total 33 columns):\n",
      " #   Column          Non-Null Count  Dtype  \n",
      "---  ------          --------------  -----  \n",
      " 0   NO              255 non-null    int64  \n",
      " 1   NO of player    255 non-null    int64  \n",
      " 2   PLAYER          255 non-null    object \n",
      " 3   PTS             255 non-null    int64  \n",
      " 4   REB             255 non-null    int64  \n",
      " 5   AST             255 non-null    float64\n",
      " 6   STL             255 non-null    float64\n",
      " 7   BLK             255 non-null    float64\n",
      " 8   T/O             255 non-null    float64\n",
      " 9   RTG             255 non-null    float64\n",
      " 10  FG (TOT)-MADE   255 non-null    int64  \n",
      " 11  FG (TOT)-MISS   255 non-null    int64  \n",
      " 12  FG (TOT)-ATT    255 non-null    int64  \n",
      " 13  FG %            255 non-null    float64\n",
      " 14  FG (2-PT)-MADE  255 non-null    float64\n",
      " 15  FG (2-PT)-MISS  255 non-null    float64\n",
      " 16  FG (2-PT)-ATT   255 non-null    int64  \n",
      " 17  2-PT %          255 non-null    float64\n",
      " 18  FG (3-PT)-MADE  255 non-null    float64\n",
      " 19  FG (3-PT)-MISS  255 non-null    float64\n",
      " 20  FG (3-PT)-ATT   255 non-null    int64  \n",
      " 21  3-PT %          255 non-null    float64\n",
      " 22  FT-MADE         255 non-null    float64\n",
      " 23  FT-MISS         255 non-null    float64\n",
      " 24  FT-ATT          255 non-null    float64\n",
      " 25  FT %            255 non-null    float64\n",
      " 26  REB\n",
      "(Off)       255 non-null    float64\n",
      " 27  REB\n",
      "(Def)       255 non-null    float64\n",
      " 28  Fouls\n",
      "(Tot)     255 non-null    float64\n",
      " 29  MIN             255 non-null    float64\n",
      " 30  W/L             255 non-null    int64  \n",
      " 31  OPPONENT        255 non-null    object \n",
      " 32  Game_Type       255 non-null    object \n",
      "dtypes: float64(20), int64(10), object(3)\n",
      "memory usage: 65.9+ KB\n"
     ]
    }
   ],
   "source": [
    "df.info()"
   ]
  },
  {
   "cell_type": "code",
   "execution_count": 7,
   "metadata": {},
   "outputs": [
    {
     "data": {
      "text/plain": [
       "array(['JOKERS', 'BBST', 'SLASHERS', 'Hurricanes(Div 2)',\n",
       "       'Purge (D3 Game 1)', 'Savages (D3 Game2)',\n",
       "       'GoStrong Jr (D3 Game3)', 'Renaissance (D3 Game 4)',\n",
       "       'NGAP Nemesis (D3 Game 4)', 'Arcana (D3 Grouping)',\n",
       "       'ZERO (D3 grouping)', 'Falcons (D3 Grouping)',\n",
       "       'Titans Zeus (D3 grouping)',\n",
       "       'Bayang Gelap Wizards (D3 Playoff - Top16)',\n",
       "       'Titans Poseidon (D3 QF)', 'Arcana(D3 SF)',\n",
       "       'San Quakes (D3 FINAL)'], dtype=object)"
      ]
     },
     "execution_count": 7,
     "metadata": {},
     "output_type": "execute_result"
    }
   ],
   "source": [
    "df['OPPONENT'].unique()"
   ]
  },
  {
   "cell_type": "markdown",
   "metadata": {},
   "source": [
    "Map game_type"
   ]
  },
  {
   "cell_type": "code",
   "execution_count": 8,
   "metadata": {},
   "outputs": [
    {
     "data": {
      "text/plain": [
       "array(['FRIENDLY (NCBL PREP)', 'NCBL 2018/2019'], dtype=object)"
      ]
     },
     "execution_count": 8,
     "metadata": {},
     "output_type": "execute_result"
    }
   ],
   "source": [
    "df['Game_Type'].unique()"
   ]
  },
  {
   "cell_type": "code",
   "execution_count": 9,
   "metadata": {},
   "outputs": [],
   "source": [
    "game_type_mapping = {'FRIENDLY (NCBL PREP)': 2, 'NCBL 2018/2019': 1}"
   ]
  },
  {
   "cell_type": "code",
   "execution_count": 10,
   "metadata": {},
   "outputs": [
    {
     "data": {
      "text/plain": [
       "0      2\n",
       "1      2\n",
       "2      2\n",
       "3      2\n",
       "4      2\n",
       "      ..\n",
       "250    1\n",
       "251    1\n",
       "252    1\n",
       "253    1\n",
       "254    1\n",
       "Name: Game_Type, Length: 255, dtype: int64"
      ]
     },
     "execution_count": 10,
     "metadata": {},
     "output_type": "execute_result"
    }
   ],
   "source": [
    "df['Game_Type'] = df['Game_Type'].map(game_type_mapping)\n",
    "df['Game_Type']"
   ]
  },
  {
   "cell_type": "markdown",
   "metadata": {},
   "source": [
    "Map opponent"
   ]
  },
  {
   "cell_type": "code",
   "execution_count": 11,
   "metadata": {},
   "outputs": [
    {
     "data": {
      "text/plain": [
       "array(['JOKERS', 'BBST', 'SLASHERS', 'Hurricanes(Div 2)',\n",
       "       'Purge (D3 Game 1)', 'Savages (D3 Game2)',\n",
       "       'GoStrong Jr (D3 Game3)', 'Renaissance (D3 Game 4)',\n",
       "       'NGAP Nemesis (D3 Game 4)', 'Arcana (D3 Grouping)',\n",
       "       'ZERO (D3 grouping)', 'Falcons (D3 Grouping)',\n",
       "       'Titans Zeus (D3 grouping)',\n",
       "       'Bayang Gelap Wizards (D3 Playoff - Top16)',\n",
       "       'Titans Poseidon (D3 QF)', 'Arcana(D3 SF)',\n",
       "       'San Quakes (D3 FINAL)'], dtype=object)"
      ]
     },
     "execution_count": 11,
     "metadata": {},
     "output_type": "execute_result"
    }
   ],
   "source": [
    "df['OPPONENT'].unique()"
   ]
  },
  {
   "cell_type": "code",
   "execution_count": 12,
   "metadata": {},
   "outputs": [],
   "source": [
    "opponent_mapping = {\n",
    "    'JOKERS': 1,\n",
    "    'BBST': 2,\n",
    "    'SLASHERS': 3,\n",
    "    'Hurricanes(Div 2)': 4,\n",
    "    'Purge (D3 Game 1)': 5,\n",
    "    'Savages (D3 Game2)': 6,\n",
    "    'GoStrong Jr (D3 Game3)': 7,\n",
    "    'Renaissance (D3 Game 4)': 8,\n",
    "    'NGAP Nemesis (D3 Game 4)': 9,\n",
    "    'Arcana (D3 Grouping)': 10,\n",
    "    'ZERO (D3 grouping)': 11,\n",
    "    'Falcons (D3 Grouping)': 12,\n",
    "    'Titans Zeus (D3 grouping)': 13,\n",
    "    'Bayang Gelap Wizards (D3 Playoff - Top16)': 14,\n",
    "    'Titans Poseidon (D3 QF)': 15,\n",
    "    'Arcana(D3 SF)': 16,\n",
    "    'San Quakes (D3 FINAL)': 17\n",
    "}"
   ]
  },
  {
   "cell_type": "code",
   "execution_count": 13,
   "metadata": {},
   "outputs": [
    {
     "data": {
      "text/plain": [
       "0       1\n",
       "1       1\n",
       "2       1\n",
       "3       1\n",
       "4       1\n",
       "       ..\n",
       "250    17\n",
       "251    17\n",
       "252    17\n",
       "253    17\n",
       "254    17\n",
       "Name: OPPONENT, Length: 255, dtype: int64"
      ]
     },
     "execution_count": 13,
     "metadata": {},
     "output_type": "execute_result"
    }
   ],
   "source": [
    "df['OPPONENT'] = df['OPPONENT'].map(opponent_mapping)\n",
    "df['OPPONENT']"
   ]
  },
  {
   "cell_type": "markdown",
   "metadata": {},
   "source": [
    "Drop the names of players and MIN"
   ]
  },
  {
   "cell_type": "code",
   "execution_count": 14,
   "metadata": {},
   "outputs": [],
   "source": [
    "df = df.drop(['PLAYER'], axis=1)"
   ]
  },
  {
   "cell_type": "code",
   "execution_count": 15,
   "metadata": {},
   "outputs": [],
   "source": [
    "df = df.drop(['MIN'], axis=1)"
   ]
  },
  {
   "cell_type": "code",
   "execution_count": 16,
   "metadata": {},
   "outputs": [
    {
     "data": {
      "text/html": [
       "<div>\n",
       "<style scoped>\n",
       "    .dataframe tbody tr th:only-of-type {\n",
       "        vertical-align: middle;\n",
       "    }\n",
       "\n",
       "    .dataframe tbody tr th {\n",
       "        vertical-align: top;\n",
       "    }\n",
       "\n",
       "    .dataframe thead th {\n",
       "        text-align: right;\n",
       "    }\n",
       "</style>\n",
       "<table border=\"1\" class=\"dataframe\">\n",
       "  <thead>\n",
       "    <tr style=\"text-align: right;\">\n",
       "      <th></th>\n",
       "      <th>NO</th>\n",
       "      <th>NO of player</th>\n",
       "      <th>PTS</th>\n",
       "      <th>REB</th>\n",
       "      <th>AST</th>\n",
       "      <th>STL</th>\n",
       "      <th>BLK</th>\n",
       "      <th>T/O</th>\n",
       "      <th>RTG</th>\n",
       "      <th>FG (TOT)-MADE</th>\n",
       "      <th>...</th>\n",
       "      <th>FT-MADE</th>\n",
       "      <th>FT-MISS</th>\n",
       "      <th>FT-ATT</th>\n",
       "      <th>FT %</th>\n",
       "      <th>REB\\n(Off)</th>\n",
       "      <th>REB\\n(Def)</th>\n",
       "      <th>Fouls\\n(Tot)</th>\n",
       "      <th>W/L</th>\n",
       "      <th>OPPONENT</th>\n",
       "      <th>Game_Type</th>\n",
       "    </tr>\n",
       "  </thead>\n",
       "  <tbody>\n",
       "    <tr>\n",
       "      <th>0</th>\n",
       "      <td>1</td>\n",
       "      <td>11</td>\n",
       "      <td>4</td>\n",
       "      <td>10</td>\n",
       "      <td>1.0</td>\n",
       "      <td>0.0</td>\n",
       "      <td>1.0</td>\n",
       "      <td>1.0</td>\n",
       "      <td>26.0</td>\n",
       "      <td>2</td>\n",
       "      <td>...</td>\n",
       "      <td>0.0</td>\n",
       "      <td>0.0</td>\n",
       "      <td>0.0</td>\n",
       "      <td>0.0</td>\n",
       "      <td>3.0</td>\n",
       "      <td>7.0</td>\n",
       "      <td>0.0</td>\n",
       "      <td>1</td>\n",
       "      <td>1</td>\n",
       "      <td>2</td>\n",
       "    </tr>\n",
       "    <tr>\n",
       "      <th>1</th>\n",
       "      <td>1</td>\n",
       "      <td>2</td>\n",
       "      <td>4</td>\n",
       "      <td>7</td>\n",
       "      <td>4.0</td>\n",
       "      <td>0.0</td>\n",
       "      <td>1.0</td>\n",
       "      <td>1.0</td>\n",
       "      <td>23.0</td>\n",
       "      <td>2</td>\n",
       "      <td>...</td>\n",
       "      <td>0.0</td>\n",
       "      <td>0.0</td>\n",
       "      <td>0.0</td>\n",
       "      <td>0.0</td>\n",
       "      <td>3.0</td>\n",
       "      <td>4.0</td>\n",
       "      <td>1.0</td>\n",
       "      <td>1</td>\n",
       "      <td>1</td>\n",
       "      <td>2</td>\n",
       "    </tr>\n",
       "    <tr>\n",
       "      <th>2</th>\n",
       "      <td>1</td>\n",
       "      <td>13</td>\n",
       "      <td>6</td>\n",
       "      <td>7</td>\n",
       "      <td>2.0</td>\n",
       "      <td>0.0</td>\n",
       "      <td>0.0</td>\n",
       "      <td>3.0</td>\n",
       "      <td>19.0</td>\n",
       "      <td>3</td>\n",
       "      <td>...</td>\n",
       "      <td>0.0</td>\n",
       "      <td>0.0</td>\n",
       "      <td>0.0</td>\n",
       "      <td>0.0</td>\n",
       "      <td>5.0</td>\n",
       "      <td>2.0</td>\n",
       "      <td>1.0</td>\n",
       "      <td>1</td>\n",
       "      <td>1</td>\n",
       "      <td>2</td>\n",
       "    </tr>\n",
       "    <tr>\n",
       "      <th>3</th>\n",
       "      <td>1</td>\n",
       "      <td>14</td>\n",
       "      <td>6</td>\n",
       "      <td>7</td>\n",
       "      <td>0.0</td>\n",
       "      <td>0.0</td>\n",
       "      <td>1.0</td>\n",
       "      <td>3.0</td>\n",
       "      <td>19.0</td>\n",
       "      <td>3</td>\n",
       "      <td>...</td>\n",
       "      <td>0.0</td>\n",
       "      <td>0.0</td>\n",
       "      <td>0.0</td>\n",
       "      <td>0.0</td>\n",
       "      <td>2.0</td>\n",
       "      <td>5.0</td>\n",
       "      <td>0.0</td>\n",
       "      <td>1</td>\n",
       "      <td>1</td>\n",
       "      <td>2</td>\n",
       "    </tr>\n",
       "    <tr>\n",
       "      <th>4</th>\n",
       "      <td>1</td>\n",
       "      <td>5</td>\n",
       "      <td>10</td>\n",
       "      <td>3</td>\n",
       "      <td>1.0</td>\n",
       "      <td>3.0</td>\n",
       "      <td>0.0</td>\n",
       "      <td>2.0</td>\n",
       "      <td>18.0</td>\n",
       "      <td>5</td>\n",
       "      <td>...</td>\n",
       "      <td>0.0</td>\n",
       "      <td>0.0</td>\n",
       "      <td>0.0</td>\n",
       "      <td>0.0</td>\n",
       "      <td>0.0</td>\n",
       "      <td>3.0</td>\n",
       "      <td>1.0</td>\n",
       "      <td>1</td>\n",
       "      <td>1</td>\n",
       "      <td>2</td>\n",
       "    </tr>\n",
       "  </tbody>\n",
       "</table>\n",
       "<p>5 rows × 31 columns</p>\n",
       "</div>"
      ],
      "text/plain": [
       "   NO  NO of player  PTS  REB  AST  STL  BLK  T/O   RTG  FG (TOT)-MADE  ...  \\\n",
       "0   1            11    4   10  1.0  0.0  1.0  1.0  26.0              2  ...   \n",
       "1   1             2    4    7  4.0  0.0  1.0  1.0  23.0              2  ...   \n",
       "2   1            13    6    7  2.0  0.0  0.0  3.0  19.0              3  ...   \n",
       "3   1            14    6    7  0.0  0.0  1.0  3.0  19.0              3  ...   \n",
       "4   1             5   10    3  1.0  3.0  0.0  2.0  18.0              5  ...   \n",
       "\n",
       "   FT-MADE  FT-MISS  FT-ATT  FT %  REB\\n(Off)  REB\\n(Def)  Fouls\\n(Tot)  W/L  \\\n",
       "0      0.0      0.0     0.0   0.0         3.0         7.0           0.0    1   \n",
       "1      0.0      0.0     0.0   0.0         3.0         4.0           1.0    1   \n",
       "2      0.0      0.0     0.0   0.0         5.0         2.0           1.0    1   \n",
       "3      0.0      0.0     0.0   0.0         2.0         5.0           0.0    1   \n",
       "4      0.0      0.0     0.0   0.0         0.0         3.0           1.0    1   \n",
       "\n",
       "   OPPONENT  Game_Type  \n",
       "0         1          2  \n",
       "1         1          2  \n",
       "2         1          2  \n",
       "3         1          2  \n",
       "4         1          2  \n",
       "\n",
       "[5 rows x 31 columns]"
      ]
     },
     "execution_count": 16,
     "metadata": {},
     "output_type": "execute_result"
    }
   ],
   "source": [
    "df.head()"
   ]
  },
  {
   "cell_type": "markdown",
   "metadata": {},
   "source": [
    "Correlation Analysis"
   ]
  },
  {
   "cell_type": "code",
   "execution_count": 17,
   "metadata": {},
   "outputs": [
    {
     "data": {
      "image/png": "[encoded data removed]",
      "text/plain": [
       "<Figure size 1500x1200 with 2 Axes>"
      ]
     },
     "metadata": {},
     "output_type": "display_data"
    }
   ],
   "source": [
    "correlation_matrix = df.corr()\n",
    "\n",
    "plt.figure(figsize=(15, 12))\n",
    "sns.heatmap(correlation_matrix, annot=False, cmap='coolwarm', fmt=\".2f\", linewidths=.5)\n",
    "plt.title('Correlation Matrix')\n",
    "plt.show()"
   ]
  },
  {
   "cell_type": "markdown",
   "metadata": {},
   "source": [
    "- **Color interpretation**:\n",
    "  - **Dark red**: indicates a positive correlation between two variables, i.e., when one of the variables increases, the other tends to increase.\n",
    "  - **Dark blue**: indicates that there is a negative correlation between the two variables, that is, when one of the variables increases, the other tends to decrease.\n",
    "  - **Light color (blue or red)**: indicates a weak correlation.\n",
    "  - **White**: indicates little to no correlation.\n",
    "\n",
    "- **Variable Explanation**:\n",
    "  - **NO of player**: may indicate the number of the player or the number of players in the team.\n",
    "  - **PTS (Points Scored)**: player or team points scored, usually with a strong positive correlation with other offensive stats (e.g., shooting percentage).\n",
    "  - **REB (Rebounds)**, **AST (Assists)**, **STL (Steals)**, **BLK (Blocks)**, etc. are all statistics used in basketball.\n",
    "  - **TO (Turnovers)**: The number of turnovers, which may be negatively correlated with scoring or other offensive statistics.\n",
    "  - **RTG (Rating)**: The rating of a player or team.\n",
    "  - **FG (Field Goals)**, **FT (Free Throws)**, and **3-PT (Three-Point Shots)**: the number of hits, misses, and attempts on shots, free throws, and three-pointers, respectively, as well as their percent success.\n",
    "\n",
    "- **Relevance Explained**:\n",
    "  - For example, there may be a strong positive correlation between **FG% (Field Goal Percentage)** and **PTS** because a high percentage of field goals made usually means more points scored.\n",
    "  - There may be a negative correlation between **TO** and **PTS**, as more turnovers may lead to fewer scoring opportunities.\n",
    "  - There may be a positive correlation between **AST (Assists)** and **FGM (Field Goals Made)** because more assists usually mean more scoring chances are converted into actual points.\n",
    "\n",
    "In this graph, it can be observed that certain combinations of variables form a darker colored area, indicating a stronger correlation between them. For example, the number of attempts and successes on field goals, three-pointers, and free throws are usually highly correlated with scoring. This means that a player's or team's ability to score depends heavily on the number and accuracy of their shots. Conversely, the number of turnovers (TO) may be negatively correlated with scoring because turnovers lead to lost offensive opportunities."
   ]
  },
  {
   "cell_type": "markdown",
   "metadata": {},
   "source": [
    "### Data Visualization\n"
   ]
  },
  {
   "cell_type": "code",
   "execution_count": 73,
   "metadata": {},
   "outputs": [
    {
     "data": {
      "image/png": "[encoded data removed]",
      "text/plain": [
       "<Figure size 1200x800 with 4 Axes>"
      ]
     },
     "metadata": {},
     "output_type": "display_data"
    }
   ],
   "source": [
    "fig, axes = plt.subplots(nrows=2, ncols=2, figsize=(12, 8))\n",
    "sns.barplot(x='NO of player', y='PTS', data=df, ax=axes[0, 0], palette='viridis')\n",
    "sns.scatterplot(x='REB', y='AST', data=df, hue='W/L', ax=axes[0, 1], palette='Set1')\n",
    "sns.boxplot(x='W/L', y='PTS', data=df, ax=axes[1, 0], palette='Blues')\n",
    "sns.histplot(df['FG %'], kde=True, ax=axes[1, 1], color='orange')\n",
    "plt.tight_layout()\n",
    "plt.show()"
   ]
  },
  {
   "cell_type": "code",
   "execution_count": 75,
   "metadata": {},
   "outputs": [
    {
     "name": "stderr",
     "output_type": "stream",
     "text": [
      "c:\\anaconda3\\Lib\\site-packages\\seaborn\\categorical.py:3544: UserWarning: 11.3% of the points cannot be placed; you may want to decrease the size of the markers or use stripplot.\n",
      "  warnings.warn(msg, UserWarning)\n"
     ]
    },
    {
     "data": {
      "image/png": "[encoded data removed]",
      "text/plain": [
       "<Figure size 1200x600 with 1 Axes>"
      ]
     },
     "metadata": {},
     "output_type": "display_data"
    }
   ],
   "source": [
    "plt.figure(figsize=(12, 6))\n",
    "sns.swarmplot(x='W/L', y='PTS', hue='Game_Type', data=df, palette='muted')\n",
    "plt.title('Distribution of points gained of each game_type')\n",
    "plt.xlabel('Result')\n",
    "plt.ylabel('Point')\n",
    "plt.show()"
   ]
  },
  {
   "cell_type": "markdown",
   "metadata": {},
   "source": [
    "Shooting data analysis"
   ]
  },
  {
   "cell_type": "code",
   "execution_count": 81,
   "metadata": {},
   "outputs": [
    {
     "data": {
      "image/png": "[encoded data removed]",
      "text/plain": [
       "<Figure size 1200x800 with 3 Axes>"
      ]
     },
     "metadata": {},
     "output_type": "display_data"
    }
   ],
   "source": [
    "plt.figure(figsize=(12, 8))\n",
    "\n",
    "# 总体投篮命中率\n",
    "plt.subplot(2, 2, 1)\n",
    "sns.barplot(x='NO of player', y='FG %', data=df, palette='viridis')\n",
    "plt.title('Overall shooting accuracy')\n",
    "plt.xlabel('No. player')\n",
    "plt.ylabel('shooting accuracy')\n",
    "\n",
    "# 两分球和三分球命中率\n",
    "plt.subplot(2, 2, 2)\n",
    "sns.barplot(x='NO of player', y='2-PT %', data=df, palette='Blues')\n",
    "plt.title('2-Point accuracy')\n",
    "plt.xlabel('No. player')\n",
    "plt.ylabel('2-Point accuracy')\n",
    "\n",
    "plt.subplot(2, 2, 3)\n",
    "sns.barplot(x='NO of player', y='3-PT %', data=df, palette='Reds')\n",
    "plt.title('3-Point accuracy')\n",
    "plt.xlabel('No. player')\n",
    "plt.ylabel('3-Point Accuracy')\n",
    "\n",
    "plt.tight_layout()\n",
    "plt.show()"
   ]
  },
  {
   "cell_type": "markdown",
   "metadata": {},
   "source": [
    "Defense analysis"
   ]
  },
  {
   "cell_type": "code",
   "execution_count": 84,
   "metadata": {},
   "outputs": [
    {
     "data": {
      "image/png": "[encoded data removed]",
      "text/plain": [
       "<Figure size 1200x600 with 2 Axes>"
      ]
     },
     "metadata": {},
     "output_type": "display_data"
    }
   ],
   "source": [
    "plt.figure(figsize=(12, 6))\n",
    "\n",
    "# 抢断分析\n",
    "plt.subplot(1, 2, 1)\n",
    "sns.barplot(x='NO of player', y='STL', data=df, palette='viridis')\n",
    "plt.title('Steal')\n",
    "plt.xlabel('player')\n",
    "plt.ylabel('steal counts')\n",
    "\n",
    "# 盖帽分析\n",
    "plt.subplot(1, 2, 2)\n",
    "sns.barplot(x='NO of player', y='BLK', data=df, palette='Blues')\n",
    "plt.title('Block')\n",
    "plt.xlabel('Player')\n",
    "plt.ylabel('block counts')\n",
    "\n",
    "plt.tight_layout()\n",
    "plt.show()"
   ]
  },
  {
   "cell_type": "markdown",
   "metadata": {},
   "source": [
    "### Prepare data for model buliding"
   ]
  },
  {
   "cell_type": "markdown",
   "metadata": {},
   "source": [
    "#### Question B.1. Predict the point of a player"
   ]
  },
  {
   "cell_type": "code",
   "execution_count": 18,
   "metadata": {},
   "outputs": [],
   "source": [
    "df_points = df "
   ]
  },
  {
   "cell_type": "markdown",
   "metadata": {},
   "source": [
    "fill up value using 0"
   ]
  },
  {
   "cell_type": "code",
   "execution_count": 19,
   "metadata": {},
   "outputs": [],
   "source": [
    "df_points = df_points.fillna(0)"
   ]
  },
  {
   "cell_type": "code",
   "execution_count": 20,
   "metadata": {},
   "outputs": [],
   "source": [
    "df_points = df_points.drop(['NO','NO of player'], axis=1)"
   ]
  },
  {
   "cell_type": "code",
   "execution_count": 85,
   "metadata": {},
   "outputs": [
    {
     "data": {
      "text/html": [
       "<div>\n",
       "<style scoped>\n",
       "    .dataframe tbody tr th:only-of-type {\n",
       "        vertical-align: middle;\n",
       "    }\n",
       "\n",
       "    .dataframe tbody tr th {\n",
       "        vertical-align: top;\n",
       "    }\n",
       "\n",
       "    .dataframe thead th {\n",
       "        text-align: right;\n",
       "    }\n",
       "</style>\n",
       "<table border=\"1\" class=\"dataframe\">\n",
       "  <thead>\n",
       "    <tr style=\"text-align: right;\">\n",
       "      <th></th>\n",
       "      <th>PTS</th>\n",
       "      <th>REB</th>\n",
       "      <th>AST</th>\n",
       "      <th>STL</th>\n",
       "      <th>BLK</th>\n",
       "      <th>T/O</th>\n",
       "      <th>RTG</th>\n",
       "      <th>FG (TOT)-MADE</th>\n",
       "      <th>FG (TOT)-MISS</th>\n",
       "      <th>FG (TOT)-ATT</th>\n",
       "      <th>...</th>\n",
       "      <th>FT-MADE</th>\n",
       "      <th>FT-MISS</th>\n",
       "      <th>FT-ATT</th>\n",
       "      <th>FT %</th>\n",
       "      <th>REB\\n(Off)</th>\n",
       "      <th>REB\\n(Def)</th>\n",
       "      <th>Fouls\\n(Tot)</th>\n",
       "      <th>W/L</th>\n",
       "      <th>OPPONENT</th>\n",
       "      <th>Game_Type</th>\n",
       "    </tr>\n",
       "  </thead>\n",
       "  <tbody>\n",
       "    <tr>\n",
       "      <th>0</th>\n",
       "      <td>4</td>\n",
       "      <td>10</td>\n",
       "      <td>1.0</td>\n",
       "      <td>0.0</td>\n",
       "      <td>1.0</td>\n",
       "      <td>1.0</td>\n",
       "      <td>26.0</td>\n",
       "      <td>2</td>\n",
       "      <td>3</td>\n",
       "      <td>5</td>\n",
       "      <td>...</td>\n",
       "      <td>0.0</td>\n",
       "      <td>0.0</td>\n",
       "      <td>0.0</td>\n",
       "      <td>0.0</td>\n",
       "      <td>3.0</td>\n",
       "      <td>7.0</td>\n",
       "      <td>0.0</td>\n",
       "      <td>1</td>\n",
       "      <td>1</td>\n",
       "      <td>2</td>\n",
       "    </tr>\n",
       "    <tr>\n",
       "      <th>1</th>\n",
       "      <td>4</td>\n",
       "      <td>7</td>\n",
       "      <td>4.0</td>\n",
       "      <td>0.0</td>\n",
       "      <td>1.0</td>\n",
       "      <td>1.0</td>\n",
       "      <td>23.0</td>\n",
       "      <td>2</td>\n",
       "      <td>6</td>\n",
       "      <td>8</td>\n",
       "      <td>...</td>\n",
       "      <td>0.0</td>\n",
       "      <td>0.0</td>\n",
       "      <td>0.0</td>\n",
       "      <td>0.0</td>\n",
       "      <td>3.0</td>\n",
       "      <td>4.0</td>\n",
       "      <td>1.0</td>\n",
       "      <td>1</td>\n",
       "      <td>1</td>\n",
       "      <td>2</td>\n",
       "    </tr>\n",
       "    <tr>\n",
       "      <th>2</th>\n",
       "      <td>6</td>\n",
       "      <td>7</td>\n",
       "      <td>2.0</td>\n",
       "      <td>0.0</td>\n",
       "      <td>0.0</td>\n",
       "      <td>3.0</td>\n",
       "      <td>19.0</td>\n",
       "      <td>3</td>\n",
       "      <td>3</td>\n",
       "      <td>6</td>\n",
       "      <td>...</td>\n",
       "      <td>0.0</td>\n",
       "      <td>0.0</td>\n",
       "      <td>0.0</td>\n",
       "      <td>0.0</td>\n",
       "      <td>5.0</td>\n",
       "      <td>2.0</td>\n",
       "      <td>1.0</td>\n",
       "      <td>1</td>\n",
       "      <td>1</td>\n",
       "      <td>2</td>\n",
       "    </tr>\n",
       "    <tr>\n",
       "      <th>3</th>\n",
       "      <td>6</td>\n",
       "      <td>7</td>\n",
       "      <td>0.0</td>\n",
       "      <td>0.0</td>\n",
       "      <td>1.0</td>\n",
       "      <td>3.0</td>\n",
       "      <td>19.0</td>\n",
       "      <td>3</td>\n",
       "      <td>6</td>\n",
       "      <td>9</td>\n",
       "      <td>...</td>\n",
       "      <td>0.0</td>\n",
       "      <td>0.0</td>\n",
       "      <td>0.0</td>\n",
       "      <td>0.0</td>\n",
       "      <td>2.0</td>\n",
       "      <td>5.0</td>\n",
       "      <td>0.0</td>\n",
       "      <td>1</td>\n",
       "      <td>1</td>\n",
       "      <td>2</td>\n",
       "    </tr>\n",
       "    <tr>\n",
       "      <th>4</th>\n",
       "      <td>10</td>\n",
       "      <td>3</td>\n",
       "      <td>1.0</td>\n",
       "      <td>3.0</td>\n",
       "      <td>0.0</td>\n",
       "      <td>2.0</td>\n",
       "      <td>18.0</td>\n",
       "      <td>5</td>\n",
       "      <td>9</td>\n",
       "      <td>14</td>\n",
       "      <td>...</td>\n",
       "      <td>0.0</td>\n",
       "      <td>0.0</td>\n",
       "      <td>0.0</td>\n",
       "      <td>0.0</td>\n",
       "      <td>0.0</td>\n",
       "      <td>3.0</td>\n",
       "      <td>1.0</td>\n",
       "      <td>1</td>\n",
       "      <td>1</td>\n",
       "      <td>2</td>\n",
       "    </tr>\n",
       "  </tbody>\n",
       "</table>\n",
       "<p>5 rows × 29 columns</p>\n",
       "</div>"
      ],
      "text/plain": [
       "   PTS  REB  AST  STL  BLK  T/O   RTG  FG (TOT)-MADE  FG (TOT)-MISS  \\\n",
       "0    4   10  1.0  0.0  1.0  1.0  26.0              2              3   \n",
       "1    4    7  4.0  0.0  1.0  1.0  23.0              2              6   \n",
       "2    6    7  2.0  0.0  0.0  3.0  19.0              3              3   \n",
       "3    6    7  0.0  0.0  1.0  3.0  19.0              3              6   \n",
       "4   10    3  1.0  3.0  0.0  2.0  18.0              5              9   \n",
       "\n",
       "   FG (TOT)-ATT  ...  FT-MADE  FT-MISS  FT-ATT  FT %  REB\\n(Off)  REB\\n(Def)  \\\n",
       "0             5  ...      0.0      0.0     0.0   0.0         3.0         7.0   \n",
       "1             8  ...      0.0      0.0     0.0   0.0         3.0         4.0   \n",
       "2             6  ...      0.0      0.0     0.0   0.0         5.0         2.0   \n",
       "3             9  ...      0.0      0.0     0.0   0.0         2.0         5.0   \n",
       "4            14  ...      0.0      0.0     0.0   0.0         0.0         3.0   \n",
       "\n",
       "   Fouls\\n(Tot)  W/L  OPPONENT  Game_Type  \n",
       "0           0.0    1         1          2  \n",
       "1           1.0    1         1          2  \n",
       "2           1.0    1         1          2  \n",
       "3           0.0    1         1          2  \n",
       "4           1.0    1         1          2  \n",
       "\n",
       "[5 rows x 29 columns]"
      ]
     },
     "execution_count": 85,
     "metadata": {},
     "output_type": "execute_result"
    }
   ],
   "source": [
    "df_points.head()"
   ]
  },
  {
   "cell_type": "code",
   "execution_count": 21,
   "metadata": {},
   "outputs": [
    {
     "data": {
      "text/plain": [
       "(255, 28)"
      ]
     },
     "execution_count": 21,
     "metadata": {},
     "output_type": "execute_result"
    }
   ],
   "source": [
    "X = df_points.iloc[:, 1:]\n",
    "X.shape"
   ]
  },
  {
   "cell_type": "code",
   "execution_count": 22,
   "metadata": {},
   "outputs": [
    {
     "data": {
      "text/plain": [
       "(255,)"
      ]
     },
     "execution_count": 22,
     "metadata": {},
     "output_type": "execute_result"
    }
   ],
   "source": [
    "y = df_points['PTS']\n",
    "y.shape"
   ]
  },
  {
   "cell_type": "code",
   "execution_count": 23,
   "metadata": {},
   "outputs": [],
   "source": [
    "X_train, X_test, y_train, y_test = train_test_split(X, y, test_size=0.3, random_state=42)"
   ]
  },
  {
   "cell_type": "markdown",
   "metadata": {},
   "source": [
    "Model building"
   ]
  },
  {
   "cell_type": "markdown",
   "metadata": {},
   "source": [
    "Random forest"
   ]
  },
  {
   "cell_type": "code",
   "execution_count": 24,
   "metadata": {},
   "outputs": [],
   "source": [
    "# define the algorithm\n",
    "rf_regressor = RandomForestRegressor(n_estimators=100, random_state=42)\n",
    "# train the model by using our training sets\n",
    "rf_regressor.fit(X_train, y_train)\n",
    "# predict the result according to our test features data\n",
    "rf_predict = rf_regressor.predict(X_test)"
   ]
  },
  {
   "cell_type": "code",
   "execution_count": 25,
   "metadata": {},
   "outputs": [
    {
     "name": "stdout",
     "output_type": "stream",
     "text": [
      "     Original Point  Predicted Point\n",
      "190               0             0.00\n",
      "6                 6             5.41\n",
      "79                5             4.96\n",
      "205               0             0.00\n",
      "117               0             0.00\n",
      "..              ...              ...\n",
      "141               0             0.00\n",
      "109               4             4.22\n",
      "115               2             1.66\n",
      "245               2             2.03\n",
      "113               2             2.22\n",
      "\n",
      "[77 rows x 2 columns]\n"
     ]
    }
   ],
   "source": [
    "# create a new dataFrame to includ all the test features\n",
    "rf_result = pd.DataFrame()\n",
    "\n",
    "# add y_test\n",
    "rf_result['Original Point'] = y_test\n",
    "\n",
    "# add the prediction\n",
    "rf_result['Predicted Point'] = rf_predict\n",
    "\n",
    "# show the result\n",
    "print(rf_result)"
   ]
  },
  {
   "cell_type": "markdown",
   "metadata": {},
   "source": [
    "The importance of each feature"
   ]
  },
  {
   "cell_type": "code",
   "execution_count": 26,
   "metadata": {},
   "outputs": [
    {
     "data": {
      "text/plain": [
       "array([1.27290717e-03, 6.78743433e-04, 3.41295752e-04, 6.24022356e-04,\n",
       "       1.11761512e-03, 1.78121444e-03, 8.43406505e-01, 9.86857962e-04,\n",
       "       6.45840283e-02, 4.46845040e-02, 1.25876496e-03, 9.92638471e-04,\n",
       "       2.45830457e-03, 3.78835156e-03, 2.37508215e-03, 1.11709657e-03,\n",
       "       2.13868096e-03, 1.54254899e-03, 7.58868544e-03, 3.40650429e-03,\n",
       "       5.52654345e-03, 4.73937729e-03, 4.10867530e-04, 5.07327987e-04,\n",
       "       1.28845078e-04, 3.13051652e-04, 1.60144341e-03, 6.28191900e-04])"
      ]
     },
     "execution_count": 26,
     "metadata": {},
     "output_type": "execute_result"
    }
   ],
   "source": [
    "rf_regressor.feature_importances_"
   ]
  },
  {
   "cell_type": "markdown",
   "metadata": {},
   "source": [
    "Linear Regression"
   ]
  },
  {
   "cell_type": "code",
   "execution_count": 27,
   "metadata": {},
   "outputs": [],
   "source": [
    "# define the algorithm\n",
    "linear_regressor = LinearRegression()\n",
    "# train the model by using our training sets\n",
    "linear_regressor.fit(X_train, y_train)\n",
    "# predict the result according to our test features data\n",
    "lr_predict = linear_regressor.predict(X_test)"
   ]
  },
  {
   "cell_type": "code",
   "execution_count": 28,
   "metadata": {},
   "outputs": [
    {
     "name": "stdout",
     "output_type": "stream",
     "text": [
      "     Original    Prediction\n",
      "190         0  1.474664e-15\n",
      "6           6  6.000000e+00\n",
      "79          5  5.000000e+00\n",
      "205         0  1.426092e-15\n",
      "117         0  1.753819e-15\n",
      "..        ...           ...\n",
      "141         0  9.816814e-15\n",
      "109         4  4.000000e+00\n",
      "115         2  2.000000e+00\n",
      "245         2  2.000000e+00\n",
      "113         2  2.000000e+00\n",
      "\n",
      "[77 rows x 2 columns]\n"
     ]
    }
   ],
   "source": [
    "# create a new dataFrame and add all the attributes of text features\n",
    "lr_result = pd.DataFrame()\n",
    "\n",
    "# add y_test\n",
    "lr_result['Original'] = y_test\n",
    "\n",
    "# add the prediction\n",
    "lr_result['Prediction'] = lr_predict\n",
    "\n",
    "# show the whole result\n",
    "print(lr_result)"
   ]
  },
  {
   "cell_type": "markdown",
   "metadata": {},
   "source": [
    "Feature Coefficients"
   ]
  },
  {
   "cell_type": "code",
   "execution_count": 29,
   "metadata": {},
   "outputs": [
    {
     "data": {
      "text/plain": [
       "array([-3.87686895e-01, -2.90765172e-01, -2.90765172e-01, -5.81530343e-01,\n",
       "        2.90765172e-01,  2.90765172e-01,  7.03605981e-01, -5.62884785e-01,\n",
       "        1.40721196e-01,  2.90264024e-16,  2.42040457e-01,  9.00615655e-02,\n",
       "        3.32102023e-01, -6.93618921e-16,  7.14863676e-01, -1.46350044e-01,\n",
       "        5.68513632e-01, -4.40619763e-16,  4.72823219e-01, -2.36411609e-01,\n",
       "        2.36411609e-01, -1.04083409e-16, -1.93843448e-01, -1.93843448e-01,\n",
       "       -5.37720909e-15, -3.62936677e-17, -4.85722573e-17,  3.66040206e-16])"
      ]
     },
     "execution_count": 29,
     "metadata": {},
     "output_type": "execute_result"
    }
   ],
   "source": [
    "linear_regressor.coef_"
   ]
  },
  {
   "cell_type": "markdown",
   "metadata": {},
   "source": [
    "> ***Mean Absolute Error，MAE***  \n",
    "> *MAE is the mean of the absolute errors between the actual observations and the model predictions, smaller values of MAE are preferred*\n",
    "  \n",
    "$MAE = \\frac{1}{n} \\sum_{i=1}^{n} |y_i - \\hat{y}_i|$   \n",
    "   \n",
    "$n$ means *sample size*   \n",
    "$y_i$ means *actual value*   \n",
    "$\\hat{y}_i$ means *prection value from model*"
   ]
  },
  {
   "cell_type": "code",
   "execution_count": 30,
   "metadata": {},
   "outputs": [
    {
     "name": "stdout",
     "output_type": "stream",
     "text": [
      "MAE of Random Forest:  0.5227272727272728\n",
      "MAE of Linear Regression:  0.005482644005082074\n"
     ]
    }
   ],
   "source": [
    "# Calculate the MAE value for each model\n",
    "\n",
    "# apply our test targtes with the prediction from each model\n",
    "# random forest\n",
    "rf_mae = mean_absolute_error(y_test, rf_predict)\n",
    "# linear regression\n",
    "lr_mae = mean_absolute_error(y_test, lr_predict)\n",
    "\n",
    "\n",
    "# print out the result, KM as the radius, explained in the previous description\n",
    "print(\"MAE of Random Forest: \", rf_mae)\n",
    "print(\"MAE of Linear Regression: \", lr_mae)"
   ]
  },
  {
   "cell_type": "markdown",
   "metadata": {},
   "source": [
    "#### Question B.2. Predict Turnover of players"
   ]
  },
  {
   "cell_type": "markdown",
   "metadata": {},
   "source": [
    "Prepare the data for prediction"
   ]
  },
  {
   "cell_type": "code",
   "execution_count": 31,
   "metadata": {},
   "outputs": [],
   "source": [
    "df_to = df"
   ]
  },
  {
   "cell_type": "code",
   "execution_count": 32,
   "metadata": {},
   "outputs": [],
   "source": [
    "df_to = df_to.drop(['NO', 'NO of player'], axis=1)"
   ]
  },
  {
   "cell_type": "code",
   "execution_count": 33,
   "metadata": {},
   "outputs": [
    {
     "name": "stdout",
     "output_type": "stream",
     "text": [
      "(255, 28)\n",
      "(255,)\n"
     ]
    }
   ],
   "source": [
    "y = df_to['T/O']\n",
    "X = df_to.drop(['T/O'], axis=1)\n",
    "\n",
    "print(X.shape)\n",
    "print(y.shape)"
   ]
  },
  {
   "cell_type": "markdown",
   "metadata": {},
   "source": [
    "Split the data"
   ]
  },
  {
   "cell_type": "code",
   "execution_count": 34,
   "metadata": {},
   "outputs": [],
   "source": [
    "X_train, X_test, y_train, y_test = train_test_split(X, y, test_size=0.3, random_state=42)"
   ]
  },
  {
   "cell_type": "markdown",
   "metadata": {},
   "source": [
    "Model building"
   ]
  },
  {
   "cell_type": "markdown",
   "metadata": {},
   "source": [
    "Random Forest"
   ]
  },
  {
   "cell_type": "code",
   "execution_count": 35,
   "metadata": {},
   "outputs": [],
   "source": [
    "# define the algorithm\n",
    "rf_regressor = RandomForestRegressor(n_estimators=100, random_state=42)\n",
    "# train the model by using our training sets\n",
    "rf_regressor.fit(X_train, y_train)\n",
    "# predict the result according to our test features data\n",
    "rf_predict = rf_regressor.predict(X_test)"
   ]
  },
  {
   "cell_type": "code",
   "execution_count": 36,
   "metadata": {},
   "outputs": [
    {
     "name": "stdout",
     "output_type": "stream",
     "text": [
      "     Original T/O  Predicted T/O\n",
      "190           0.0           0.00\n",
      "6             3.0           1.78\n",
      "79            2.0           2.27\n",
      "205           0.0           0.00\n",
      "117           0.0           0.00\n",
      "..            ...            ...\n",
      "141           3.0           0.92\n",
      "109           5.0           1.64\n",
      "115           0.0           0.87\n",
      "245           1.0           1.15\n",
      "113           1.0           1.81\n",
      "\n",
      "[77 rows x 2 columns]\n"
     ]
    }
   ],
   "source": [
    "# create a new dataFrame to includ all the test features\n",
    "rf_result = pd.DataFrame()\n",
    "\n",
    "# add y_test\n",
    "rf_result['Original T/O'] = y_test\n",
    "\n",
    "# add the prediction\n",
    "rf_result['Predicted T/O'] = rf_predict\n",
    "\n",
    "# show the result\n",
    "print(rf_result)"
   ]
  },
  {
   "cell_type": "markdown",
   "metadata": {},
   "source": [
    "Feature Importance"
   ]
  },
  {
   "cell_type": "code",
   "execution_count": 37,
   "metadata": {},
   "outputs": [
    {
     "data": {
      "text/plain": [
       "array([0.05280923, 0.0701011 , 0.0407516 , 0.07144062, 0.03624468,\n",
       "       0.05532685, 0.019712  , 0.02155169, 0.07097266, 0.03354743,\n",
       "       0.03716818, 0.07303208, 0.11299685, 0.03875894, 0.00903764,\n",
       "       0.00813784, 0.01646037, 0.00854963, 0.00322667, 0.01310728,\n",
       "       0.00982066, 0.03158291, 0.01365485, 0.081347  , 0.00495251,\n",
       "       0.00636048, 0.05320954, 0.0061387 ])"
      ]
     },
     "execution_count": 37,
     "metadata": {},
     "output_type": "execute_result"
    }
   ],
   "source": [
    "rf_regressor.feature_importances_"
   ]
  },
  {
   "cell_type": "markdown",
   "metadata": {},
   "source": [
    "Linear Regression"
   ]
  },
  {
   "cell_type": "code",
   "execution_count": 38,
   "metadata": {},
   "outputs": [],
   "source": [
    "# define the algorithm\n",
    "linear_regressor = LinearRegression()\n",
    "# train the model by using our training sets\n",
    "linear_regressor.fit(X_train, y_train)\n",
    "# predict the result according to our test features data\n",
    "lr_predict = linear_regressor.predict(X_test)"
   ]
  },
  {
   "cell_type": "code",
   "execution_count": 39,
   "metadata": {},
   "outputs": [
    {
     "name": "stdout",
     "output_type": "stream",
     "text": [
      "     Original T/O    Prediction\n",
      "190           0.0 -1.853292e-14\n",
      "6             3.0  3.000000e+00\n",
      "79            2.0  2.000000e+00\n",
      "205           0.0 -1.858149e-14\n",
      "117           0.0 -1.929273e-14\n",
      "..            ...           ...\n",
      "141           3.0  3.000000e+00\n",
      "109           5.0  5.000000e+00\n",
      "115           0.0 -1.643997e-14\n",
      "245           1.0  1.000000e+00\n",
      "113           1.0  1.000000e+00\n",
      "\n",
      "[77 rows x 2 columns]\n"
     ]
    }
   ],
   "source": [
    "# create a new dataFrame and add all the attributes of text features\n",
    "lr_result = pd.DataFrame()\n",
    "\n",
    "# add y_test\n",
    "lr_result['Original T/O'] = y_test\n",
    "\n",
    "# add the prediction\n",
    "lr_result['Prediction'] = lr_predict\n",
    "\n",
    "# show the whole result\n",
    "print(lr_result)"
   ]
  },
  {
   "cell_type": "markdown",
   "metadata": {},
   "source": [
    "Feature Coefficients:"
   ]
  },
  {
   "cell_type": "code",
   "execution_count": 40,
   "metadata": {},
   "outputs": [
    {
     "data": {
      "text/plain": [
       "array([ 8.13884786e-01,  1.33333333e+00,  1.00000000e+00,  1.00000000e+00,\n",
       "        2.00000000e+00, -1.00000000e+00,  1.84638109e-01, -1.47710487e-01,\n",
       "        3.69276219e-02,  5.10017813e-16,  6.35155096e-02,  2.36336780e-02,\n",
       "        8.71491876e-02, -1.58712172e-17,  1.87592319e-01, -3.84047267e-02,\n",
       "        1.49187592e-01,  8.32667268e-16,  1.24076809e-01, -6.20384047e-02,\n",
       "        6.20384047e-02,  5.55111512e-17,  6.66666667e-01,  6.66666667e-01,\n",
       "        2.05131051e-16,  1.00267017e-15, -4.85722573e-17,  1.52395457e-15])"
      ]
     },
     "execution_count": 40,
     "metadata": {},
     "output_type": "execute_result"
    }
   ],
   "source": [
    "linear_regressor.coef_"
   ]
  },
  {
   "cell_type": "code",
   "execution_count": 41,
   "metadata": {},
   "outputs": [
    {
     "name": "stdout",
     "output_type": "stream",
     "text": [
      "MAE of Random Forest:  0.8944155844155844\n",
      "MAE of Linear Regression:  0.0014387385140945401\n"
     ]
    }
   ],
   "source": [
    "# Calculate the MAE value for each model\n",
    "\n",
    "# apply our test targtes with the prediction from each model\n",
    "# random forest\n",
    "rf_mae = mean_absolute_error(y_test, rf_predict)\n",
    "# linear regression\n",
    "lr_mae = mean_absolute_error(y_test, lr_predict)\n",
    "\n",
    "\n",
    "# print out the result, KM as the radius, explained in the previous description\n",
    "print(\"MAE of Random Forest: \", rf_mae)\n",
    "print(\"MAE of Linear Regression: \", lr_mae)"
   ]
  },
  {
   "cell_type": "markdown",
   "metadata": {},
   "source": [
    "#### Question C.1. Predict win or lose for a player"
   ]
  },
  {
   "cell_type": "code",
   "execution_count": 42,
   "metadata": {},
   "outputs": [],
   "source": [
    "df_win = df"
   ]
  },
  {
   "cell_type": "code",
   "execution_count": 43,
   "metadata": {},
   "outputs": [],
   "source": [
    "df_win = df_win.drop(['NO', 'NO of player'], axis=1)"
   ]
  },
  {
   "cell_type": "code",
   "execution_count": 44,
   "metadata": {},
   "outputs": [
    {
     "name": "stdout",
     "output_type": "stream",
     "text": [
      "(255, 28)\n",
      "(255,)\n"
     ]
    }
   ],
   "source": [
    "y = df_to['W/L']\n",
    "X = df_to.drop(['W/L'], axis=1)\n",
    "\n",
    "print(X.shape)\n",
    "print(y.shape)"
   ]
  },
  {
   "cell_type": "markdown",
   "metadata": {},
   "source": [
    "Split the data"
   ]
  },
  {
   "cell_type": "code",
   "execution_count": 45,
   "metadata": {},
   "outputs": [],
   "source": [
    "X_train, X_test, y_train, y_test = train_test_split(X, y, test_size=0.3, random_state=42)"
   ]
  },
  {
   "cell_type": "markdown",
   "metadata": {},
   "source": [
    "Model building"
   ]
  },
  {
   "cell_type": "markdown",
   "metadata": {},
   "source": [
    "Random Forest"
   ]
  },
  {
   "cell_type": "code",
   "execution_count": 46,
   "metadata": {},
   "outputs": [],
   "source": [
    "rf_classifier = RandomForestClassifier(n_estimators=100, random_state=42)\n",
    "\n",
    "rf_classifier.fit(X_train, y_train)\n",
    "\n",
    "rf_pred = rf_classifier.predict(X_test)"
   ]
  },
  {
   "cell_type": "code",
   "execution_count": 47,
   "metadata": {},
   "outputs": [
    {
     "name": "stdout",
     "output_type": "stream",
     "text": [
      "Accuracy: 0.8441558441558441\n",
      "Classification Report:\n",
      "              precision    recall  f1-score   support\n",
      "\n",
      "           0       0.78      0.83      0.81        30\n",
      "           1       0.89      0.85      0.87        47\n",
      "\n",
      "    accuracy                           0.84        77\n",
      "   macro avg       0.84      0.84      0.84        77\n",
      "weighted avg       0.85      0.84      0.84        77\n",
      "\n"
     ]
    }
   ],
   "source": [
    "accuracy = accuracy_score(y_test, rf_pred)\n",
    "print(f'Accuracy: {accuracy}')\n",
    "print('Classification Report:')\n",
    "print(classification_report(y_test, rf_pred))"
   ]
  },
  {
   "cell_type": "markdown",
   "metadata": {},
   "source": [
    "Feature Importance"
   ]
  },
  {
   "cell_type": "code",
   "execution_count": 48,
   "metadata": {},
   "outputs": [
    {
     "data": {
      "text/plain": [
       "array([0.01681134, 0.01870401, 0.01971835, 0.02232983, 0.01852266,\n",
       "       0.02688898, 0.04400554, 0.01320518, 0.0224065 , 0.03277869,\n",
       "       0.04342654, 0.0127204 , 0.02777798, 0.0276576 , 0.02289592,\n",
       "       0.00499619, 0.01066814, 0.01572584, 0.01458382, 0.00928466,\n",
       "       0.00582711, 0.00663854, 0.00811541, 0.01068377, 0.02183988,\n",
       "       0.01365559, 0.47772174, 0.0304098 ])"
      ]
     },
     "execution_count": 48,
     "metadata": {},
     "output_type": "execute_result"
    }
   ],
   "source": [
    "rf_classifier.feature_importances_"
   ]
  },
  {
   "cell_type": "markdown",
   "metadata": {},
   "source": [
    "Logistic Regression"
   ]
  },
  {
   "cell_type": "code",
   "execution_count": 49,
   "metadata": {},
   "outputs": [
    {
     "name": "stderr",
     "output_type": "stream",
     "text": [
      "c:\\anaconda3\\Lib\\site-packages\\sklearn\\linear_model\\_logistic.py:460: ConvergenceWarning: lbfgs failed to converge (status=1):\n",
      "STOP: TOTAL NO. of ITERATIONS REACHED LIMIT.\n",
      "\n",
      "Increase the number of iterations (max_iter) or scale the data as shown in:\n",
      "    https://scikit-learn.org/stable/modules/preprocessing.html\n",
      "Please also refer to the documentation for alternative solver options:\n",
      "    https://scikit-learn.org/stable/modules/linear_model.html#logistic-regression\n",
      "  n_iter_i = _check_optimize_result(\n"
     ]
    }
   ],
   "source": [
    "lr_classifier = LogisticRegression(random_state=42)\n",
    "\n",
    "lr_classifier.fit(X_train, y_train)\n",
    "\n",
    "y_pred = lr_classifier.predict(X_test)"
   ]
  },
  {
   "cell_type": "code",
   "execution_count": 50,
   "metadata": {},
   "outputs": [
    {
     "name": "stdout",
     "output_type": "stream",
     "text": [
      "Accuracy: 0.6623376623376623\n",
      "Classification Report:\n",
      "              precision    recall  f1-score   support\n",
      "\n",
      "           0       0.58      0.50      0.54        30\n",
      "           1       0.71      0.77      0.73        47\n",
      "\n",
      "    accuracy                           0.66        77\n",
      "   macro avg       0.64      0.63      0.64        77\n",
      "weighted avg       0.66      0.66      0.66        77\n",
      "\n"
     ]
    }
   ],
   "source": [
    "lr_pred = lr_classifier.predict(X_test)\n",
    "\n",
    "accuracy = accuracy_score(y_test, lr_pred)\n",
    "print(f'Accuracy: {accuracy}')\n",
    "print('Classification Report:')\n",
    "print(classification_report(y_test, lr_pred))"
   ]
  },
  {
   "cell_type": "markdown",
   "metadata": {},
   "source": [
    "Feature Coefficients"
   ]
  },
  {
   "cell_type": "code",
   "execution_count": 51,
   "metadata": {},
   "outputs": [
    {
     "data": {
      "text/plain": [
       "array([-0.03202619, -0.17806866,  0.25613754, -0.29151824,  0.2849427 ,\n",
       "        0.02421449,  0.12212671, -0.07823621, -0.13955322, -0.21778943,\n",
       "        0.01358787,  0.35043155, -0.12485066,  0.22558089, -0.02165529,\n",
       "       -0.24115291,  0.36032714,  0.11917424,  0.03599341, -0.00943057,\n",
       "       -0.04086288, -0.05029346, -0.01440059, -0.19346356,  0.0153949 ,\n",
       "       -0.34090625,  0.06816917, -0.27990791])"
      ]
     },
     "execution_count": 51,
     "metadata": {},
     "output_type": "execute_result"
    }
   ],
   "source": [
    "lr_classifier.coef_[0]"
   ]
  },
  {
   "cell_type": "markdown",
   "metadata": {},
   "source": [
    "####   Question A.1. Predicting whether the team will win or lose when certain combination of players is formed in a game"
   ]
  },
  {
   "cell_type": "markdown",
   "metadata": {},
   "source": [
    "We shall load another dataset now"
   ]
  },
  {
   "cell_type": "code",
   "execution_count": 52,
   "metadata": {},
   "outputs": [],
   "source": [
    "curr_path = os.getcwd()\n",
    "file_path = curr_path + '/players_on.xlsx'"
   ]
  },
  {
   "cell_type": "code",
   "execution_count": 53,
   "metadata": {},
   "outputs": [],
   "source": [
    "df_on = pd.read_excel(file_path)"
   ]
  },
  {
   "cell_type": "markdown",
   "metadata": {},
   "source": [
    "The unique player number:"
   ]
  },
  {
   "cell_type": "code",
   "execution_count": 54,
   "metadata": {},
   "outputs": [
    {
     "data": {
      "text/plain": [
       "array([11,  2, 13, 14,  5,  7, 10,  1,  4,  6,  3,  8,  9, 12, 15],\n",
       "      dtype=int64)"
      ]
     },
     "execution_count": 54,
     "metadata": {},
     "output_type": "execute_result"
    }
   ],
   "source": [
    "df['NO of player'].unique()"
   ]
  },
  {
   "cell_type": "markdown",
   "metadata": {},
   "source": [
    "This dataset keeps track of how players played in each game"
   ]
  },
  {
   "cell_type": "code",
   "execution_count": 55,
   "metadata": {},
   "outputs": [
    {
     "data": {
      "text/html": [
       "<div>\n",
       "<style scoped>\n",
       "    .dataframe tbody tr th:only-of-type {\n",
       "        vertical-align: middle;\n",
       "    }\n",
       "\n",
       "    .dataframe tbody tr th {\n",
       "        vertical-align: top;\n",
       "    }\n",
       "\n",
       "    .dataframe thead th {\n",
       "        text-align: right;\n",
       "    }\n",
       "</style>\n",
       "<table border=\"1\" class=\"dataframe\">\n",
       "  <thead>\n",
       "    <tr style=\"text-align: right;\">\n",
       "      <th></th>\n",
       "      <th>Game No</th>\n",
       "      <th>player-11</th>\n",
       "      <th>player-2</th>\n",
       "      <th>player-13</th>\n",
       "      <th>player-14</th>\n",
       "      <th>player-5</th>\n",
       "      <th>player-7</th>\n",
       "      <th>player-10</th>\n",
       "      <th>player-1</th>\n",
       "      <th>player-4</th>\n",
       "      <th>player-6</th>\n",
       "      <th>player-3</th>\n",
       "      <th>player-8</th>\n",
       "      <th>player-9</th>\n",
       "      <th>player-12</th>\n",
       "      <th>player-15</th>\n",
       "      <th>WIN/LOSS</th>\n",
       "    </tr>\n",
       "  </thead>\n",
       "  <tbody>\n",
       "    <tr>\n",
       "      <th>0</th>\n",
       "      <td>1</td>\n",
       "      <td>1</td>\n",
       "      <td>1</td>\n",
       "      <td>1</td>\n",
       "      <td>1</td>\n",
       "      <td>1</td>\n",
       "      <td>1</td>\n",
       "      <td>1</td>\n",
       "      <td>1</td>\n",
       "      <td>1</td>\n",
       "      <td>1</td>\n",
       "      <td>1</td>\n",
       "      <td>0</td>\n",
       "      <td>0</td>\n",
       "      <td>0</td>\n",
       "      <td>0</td>\n",
       "      <td>1</td>\n",
       "    </tr>\n",
       "    <tr>\n",
       "      <th>1</th>\n",
       "      <td>2</td>\n",
       "      <td>0</td>\n",
       "      <td>1</td>\n",
       "      <td>1</td>\n",
       "      <td>0</td>\n",
       "      <td>1</td>\n",
       "      <td>1</td>\n",
       "      <td>1</td>\n",
       "      <td>0</td>\n",
       "      <td>1</td>\n",
       "      <td>1</td>\n",
       "      <td>0</td>\n",
       "      <td>1</td>\n",
       "      <td>1</td>\n",
       "      <td>0</td>\n",
       "      <td>0</td>\n",
       "      <td>1</td>\n",
       "    </tr>\n",
       "    <tr>\n",
       "      <th>2</th>\n",
       "      <td>3</td>\n",
       "      <td>0</td>\n",
       "      <td>1</td>\n",
       "      <td>1</td>\n",
       "      <td>0</td>\n",
       "      <td>1</td>\n",
       "      <td>1</td>\n",
       "      <td>1</td>\n",
       "      <td>1</td>\n",
       "      <td>0</td>\n",
       "      <td>1</td>\n",
       "      <td>1</td>\n",
       "      <td>1</td>\n",
       "      <td>1</td>\n",
       "      <td>0</td>\n",
       "      <td>0</td>\n",
       "      <td>0</td>\n",
       "    </tr>\n",
       "    <tr>\n",
       "      <th>3</th>\n",
       "      <td>4</td>\n",
       "      <td>1</td>\n",
       "      <td>0</td>\n",
       "      <td>1</td>\n",
       "      <td>0</td>\n",
       "      <td>0</td>\n",
       "      <td>1</td>\n",
       "      <td>0</td>\n",
       "      <td>1</td>\n",
       "      <td>0</td>\n",
       "      <td>1</td>\n",
       "      <td>0</td>\n",
       "      <td>0</td>\n",
       "      <td>0</td>\n",
       "      <td>1</td>\n",
       "      <td>1</td>\n",
       "      <td>0</td>\n",
       "    </tr>\n",
       "    <tr>\n",
       "      <th>4</th>\n",
       "      <td>5</td>\n",
       "      <td>1</td>\n",
       "      <td>1</td>\n",
       "      <td>1</td>\n",
       "      <td>1</td>\n",
       "      <td>1</td>\n",
       "      <td>0</td>\n",
       "      <td>1</td>\n",
       "      <td>1</td>\n",
       "      <td>0</td>\n",
       "      <td>1</td>\n",
       "      <td>1</td>\n",
       "      <td>1</td>\n",
       "      <td>1</td>\n",
       "      <td>1</td>\n",
       "      <td>0</td>\n",
       "      <td>1</td>\n",
       "    </tr>\n",
       "  </tbody>\n",
       "</table>\n",
       "</div>"
      ],
      "text/plain": [
       "   Game No  player-11  player-2  player-13  player-14  player-5  player-7  \\\n",
       "0        1          1         1          1          1         1         1   \n",
       "1        2          0         1          1          0         1         1   \n",
       "2        3          0         1          1          0         1         1   \n",
       "3        4          1         0          1          0         0         1   \n",
       "4        5          1         1          1          1         1         0   \n",
       "\n",
       "   player-10  player-1  player-4  player-6  player-3  player-8  player-9  \\\n",
       "0          1         1         1         1         1         0         0   \n",
       "1          1         0         1         1         0         1         1   \n",
       "2          1         1         0         1         1         1         1   \n",
       "3          0         1         0         1         0         0         0   \n",
       "4          1         1         0         1         1         1         1   \n",
       "\n",
       "   player-12  player-15  WIN/LOSS  \n",
       "0          0          0         1  \n",
       "1          0          0         1  \n",
       "2          0          0         0  \n",
       "3          1          1         0  \n",
       "4          1          0         1  "
      ]
     },
     "execution_count": 55,
     "metadata": {},
     "output_type": "execute_result"
    }
   ],
   "source": [
    "df_on.head()"
   ]
  },
  {
   "cell_type": "markdown",
   "metadata": {},
   "source": [
    "So we apply classification algorithm to it to predict win or lose."
   ]
  },
  {
   "cell_type": "code",
   "execution_count": 56,
   "metadata": {},
   "outputs": [],
   "source": [
    "df_on = df_on.drop(['Game No'], axis=1)"
   ]
  },
  {
   "cell_type": "code",
   "execution_count": 57,
   "metadata": {},
   "outputs": [
    {
     "name": "stdout",
     "output_type": "stream",
     "text": [
      "(17, 15)\n",
      "(17,)\n"
     ]
    }
   ],
   "source": [
    "y = df_on['WIN/LOSS']\n",
    "X = df_on.drop(['WIN/LOSS'], axis=1)\n",
    "\n",
    "print(X.shape)\n",
    "print(y.shape)"
   ]
  },
  {
   "cell_type": "markdown",
   "metadata": {},
   "source": [
    "use Random Forest to select the importance of player"
   ]
  },
  {
   "cell_type": "code",
   "execution_count": 58,
   "metadata": {},
   "outputs": [],
   "source": [
    "X_train, X_test, y_train, y_test = train_test_split(X, y, test_size=0.3, random_state=42)"
   ]
  },
  {
   "cell_type": "code",
   "execution_count": 59,
   "metadata": {},
   "outputs": [],
   "source": [
    "rf_classifier = RandomForestClassifier(n_estimators=100, random_state=42)\n",
    "\n",
    "rf_classifier.fit(X_train, y_train)\n",
    "\n",
    "rf_pred = rf_classifier.predict(X_test)"
   ]
  },
  {
   "cell_type": "code",
   "execution_count": 60,
   "metadata": {},
   "outputs": [
    {
     "name": "stdout",
     "output_type": "stream",
     "text": [
      "Accuracy: 0.5\n",
      "Classification Report:\n",
      "              precision    recall  f1-score   support\n",
      "\n",
      "           0       0.25      1.00      0.40         1\n",
      "           1       1.00      0.40      0.57         5\n",
      "\n",
      "    accuracy                           0.50         6\n",
      "   macro avg       0.62      0.70      0.49         6\n",
      "weighted avg       0.88      0.50      0.54         6\n",
      "\n"
     ]
    }
   ],
   "source": [
    "accuracy = accuracy_score(y_test, rf_pred)\n",
    "print(f'Accuracy: {accuracy}')\n",
    "print('Classification Report:')\n",
    "print(classification_report(y_test, rf_pred))"
   ]
  },
  {
   "cell_type": "markdown",
   "metadata": {},
   "source": [
    "Feature Importance"
   ]
  },
  {
   "cell_type": "code",
   "execution_count": 61,
   "metadata": {},
   "outputs": [
    {
     "data": {
      "text/plain": [
       "array([0.07693348, 0.11694897, 0.06602528, 0.06072523, 0.0231087 ,\n",
       "       0.16822265, 0.03623867, 0.        , 0.04046351, 0.05690837,\n",
       "       0.05510812, 0.05516358, 0.07990298, 0.11710191, 0.04714855])"
      ]
     },
     "execution_count": 61,
     "metadata": {},
     "output_type": "execute_result"
    }
   ],
   "source": [
    "rf_classifier.feature_importances_"
   ]
  },
  {
   "cell_type": "code",
   "execution_count": 62,
   "metadata": {},
   "outputs": [],
   "source": [
    "player_importance = pd.DataFrame()\n",
    "player_importance['Player No'] = X.columns\n",
    "player_importance['Importance'] = rf_classifier.feature_importances_"
   ]
  },
  {
   "cell_type": "code",
   "execution_count": 63,
   "metadata": {},
   "outputs": [
    {
     "data": {
      "text/html": [
       "<div>\n",
       "<style scoped>\n",
       "    .dataframe tbody tr th:only-of-type {\n",
       "        vertical-align: middle;\n",
       "    }\n",
       "\n",
       "    .dataframe tbody tr th {\n",
       "        vertical-align: top;\n",
       "    }\n",
       "\n",
       "    .dataframe thead th {\n",
       "        text-align: right;\n",
       "    }\n",
       "</style>\n",
       "<table border=\"1\" class=\"dataframe\">\n",
       "  <thead>\n",
       "    <tr style=\"text-align: right;\">\n",
       "      <th></th>\n",
       "      <th>Player No</th>\n",
       "      <th>Importance</th>\n",
       "    </tr>\n",
       "  </thead>\n",
       "  <tbody>\n",
       "    <tr>\n",
       "      <th>5</th>\n",
       "      <td>player-7</td>\n",
       "      <td>0.168223</td>\n",
       "    </tr>\n",
       "    <tr>\n",
       "      <th>13</th>\n",
       "      <td>player-12</td>\n",
       "      <td>0.117102</td>\n",
       "    </tr>\n",
       "    <tr>\n",
       "      <th>1</th>\n",
       "      <td>player-2</td>\n",
       "      <td>0.116949</td>\n",
       "    </tr>\n",
       "    <tr>\n",
       "      <th>12</th>\n",
       "      <td>player-9</td>\n",
       "      <td>0.079903</td>\n",
       "    </tr>\n",
       "    <tr>\n",
       "      <th>0</th>\n",
       "      <td>player-11</td>\n",
       "      <td>0.076933</td>\n",
       "    </tr>\n",
       "    <tr>\n",
       "      <th>2</th>\n",
       "      <td>player-13</td>\n",
       "      <td>0.066025</td>\n",
       "    </tr>\n",
       "    <tr>\n",
       "      <th>3</th>\n",
       "      <td>player-14</td>\n",
       "      <td>0.060725</td>\n",
       "    </tr>\n",
       "    <tr>\n",
       "      <th>9</th>\n",
       "      <td>player-6</td>\n",
       "      <td>0.056908</td>\n",
       "    </tr>\n",
       "    <tr>\n",
       "      <th>11</th>\n",
       "      <td>player-8</td>\n",
       "      <td>0.055164</td>\n",
       "    </tr>\n",
       "    <tr>\n",
       "      <th>10</th>\n",
       "      <td>player-3</td>\n",
       "      <td>0.055108</td>\n",
       "    </tr>\n",
       "    <tr>\n",
       "      <th>14</th>\n",
       "      <td>player-15</td>\n",
       "      <td>0.047149</td>\n",
       "    </tr>\n",
       "    <tr>\n",
       "      <th>8</th>\n",
       "      <td>player-4</td>\n",
       "      <td>0.040464</td>\n",
       "    </tr>\n",
       "    <tr>\n",
       "      <th>6</th>\n",
       "      <td>player-10</td>\n",
       "      <td>0.036239</td>\n",
       "    </tr>\n",
       "    <tr>\n",
       "      <th>4</th>\n",
       "      <td>player-5</td>\n",
       "      <td>0.023109</td>\n",
       "    </tr>\n",
       "    <tr>\n",
       "      <th>7</th>\n",
       "      <td>player-1</td>\n",
       "      <td>0.000000</td>\n",
       "    </tr>\n",
       "  </tbody>\n",
       "</table>\n",
       "</div>"
      ],
      "text/plain": [
       "    Player No  Importance\n",
       "5    player-7    0.168223\n",
       "13  player-12    0.117102\n",
       "1    player-2    0.116949\n",
       "12   player-9    0.079903\n",
       "0   player-11    0.076933\n",
       "2   player-13    0.066025\n",
       "3   player-14    0.060725\n",
       "9    player-6    0.056908\n",
       "11   player-8    0.055164\n",
       "10   player-3    0.055108\n",
       "14  player-15    0.047149\n",
       "8    player-4    0.040464\n",
       "6   player-10    0.036239\n",
       "4    player-5    0.023109\n",
       "7    player-1    0.000000"
      ]
     },
     "execution_count": 63,
     "metadata": {},
     "output_type": "execute_result"
    }
   ],
   "source": [
    "player_importance = player_importance.sort_values(by='Importance', ascending=False)\n",
    "player_importance"
   ]
  },
  {
   "cell_type": "markdown",
   "metadata": {},
   "source": [
    "Hence, with player 7, 12, 2, 9, and 11, is the strongest composition of the team."
   ]
  },
  {
   "cell_type": "markdown",
   "metadata": {},
   "source": [
    "#### Question D.1 Clustering players based on their strengths and weaknesses"
   ]
  },
  {
   "cell_type": "code",
   "execution_count": 64,
   "metadata": {},
   "outputs": [],
   "source": [
    "df_sw = df"
   ]
  },
  {
   "cell_type": "code",
   "execution_count": 65,
   "metadata": {},
   "outputs": [],
   "source": [
    "df_sw = df_sw.drop(['NO of player', 'NO', 'W/L', 'OPPONENT', 'Game_Type'], axis=1)"
   ]
  },
  {
   "cell_type": "code",
   "execution_count": 66,
   "metadata": {},
   "outputs": [],
   "source": [
    "selected_features = df_sw.columns\n",
    "X = df_sw[selected_features]"
   ]
  },
  {
   "cell_type": "code",
   "execution_count": 67,
   "metadata": {},
   "outputs": [],
   "source": [
    "scaler = StandardScaler()\n",
    "X_scaled = scaler.fit_transform(X)"
   ]
  },
  {
   "cell_type": "code",
   "execution_count": 68,
   "metadata": {},
   "outputs": [
    {
     "name": "stderr",
     "output_type": "stream",
     "text": [
      "c:\\anaconda3\\Lib\\site-packages\\sklearn\\cluster\\_kmeans.py:1412: FutureWarning: The default value of `n_init` will change from 10 to 'auto' in 1.4. Set the value of `n_init` explicitly to suppress the warning\n",
      "  super()._check_params_vs_input(X, default_n_init=10)\n"
     ]
    },
    {
     "name": "stdout",
     "output_type": "stream",
     "text": [
      "               PTS       REB       AST       STL       BLK       T/O  \\\n",
      "cluster                                                                \n",
      "0        11.000000  2.730769  1.615385  2.500000  0.153846  1.576923   \n",
      "1         0.590604  0.845638  0.328859  0.288591  0.100671  0.496644   \n",
      "2         6.512500  6.062500  1.275000  1.325000  0.550000  2.287500   \n",
      "\n",
      "               RTG  FG (TOT)-MADE  FG (TOT)-MISS  FG (TOT)-ATT  ...  \\\n",
      "cluster                                                         ...   \n",
      "0        19.307692       4.038462       9.384615     13.423077  ...   \n",
      "1         2.604027       0.248322       1.026846      1.275168  ...   \n",
      "2        20.050000       2.862500       5.512500      8.375000  ...   \n",
      "\n",
      "         FG (3-PT)-MISS  FG (3-PT)-ATT     3-PT %   FT-MADE   FT-MISS  \\\n",
      "cluster                                                                 \n",
      "0              6.000000       8.346154  30.776923  0.576923  0.576923   \n",
      "1              0.234899       0.268456   2.236913  0.060403  0.093960   \n",
      "2              0.712500       0.887500   8.541250  0.712500  0.912500   \n",
      "\n",
      "           FT-ATT       FT %  REB\\n(Off)  REB\\n(Def)  Fouls\\n(Tot)  \n",
      "cluster                                                             \n",
      "0        1.153846  14.615385    0.153846    2.576923      0.076923  \n",
      "1        0.154362   2.236913    0.060403    0.785235      0.134228  \n",
      "2        1.625000  22.416250    1.000000    5.062500      0.225000  \n",
      "\n",
      "[3 rows x 26 columns]\n"
     ]
    },
    {
     "data": {
      "image/png": "[encoded data removed]",
      "text/plain": [
       "<Figure size 640x480 with 1 Axes>"
      ]
     },
     "metadata": {},
     "output_type": "display_data"
    }
   ],
   "source": [
    "n_clusters = 3\n",
    "\n",
    "# kmeans\n",
    "kmeans = KMeans(n_clusters=n_clusters, random_state=42)\n",
    "df['cluster'] = kmeans.fit_predict(X_scaled)\n",
    "\n",
    "# infomation\n",
    "cluster_stats = df.groupby('cluster')[selected_features].mean()\n",
    "print(cluster_stats)\n",
    "\n",
    "# scatter\n",
    "plt.scatter(X_scaled[:, 0], X_scaled[:, 1], c=df['cluster'], cmap='viridis', alpha=0.5)\n",
    "plt.scatter(kmeans.cluster_centers_[:, 0], kmeans.cluster_centers_[:, 1], c='red', marker='X', s=200)\n",
    "plt.xlabel(selected_features[0])\n",
    "plt.ylabel(selected_features[1])\n",
    "plt.title('Clustering Players Based on Strengths and Weaknesses')\n",
    "plt.show()"
   ]
  }
 ],
 "metadata": {
  "kernelspec": {
   "display_name": "base",
   "language": "python",
   "name": "python3"
  },
  "language_info": {
   "codemirror_mode": {
    "name": "ipython",
    "version": 3
   },
   "file_extension": ".py",
   "mimetype": "text/x-python",
   "name": "python",
   "nbconvert_exporter": "python",
   "pygments_lexer": "ipython3",
   "version": "3.11.5"
  }
 },
 "nbformat": 4,
 "nbformat_minor": 2
}
